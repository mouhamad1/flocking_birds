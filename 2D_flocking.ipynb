{
 "cells": [
  {
   "cell_type": "code",
   "execution_count": 1,
   "metadata": {
    "collapsed": false
   },
   "outputs": [],
   "source": [
    "%matplotlib notebook \n",
    "import numpy as np\n",
    "import numpy.random as npr\n",
    "import matplotlib.pyplot as plt\n",
    "import matplotlib.animation as animation\n"
   ]
  },
  {
   "cell_type": "code",
   "execution_count": 4,
   "metadata": {
    "collapsed": false
   },
   "outputs": [],
   "source": [
    "class Flock(object):\n",
    "    \"\"\"Represents the N-birds configuration at a given moment, in 2D. Birds are flocking in a square of side L\n",
    "    with periodic boundary conditions. Birds' positions and velocities are contained in two arrays. \n",
    "    At t=0, these are pos0 and vel0.\n",
    "    Birds flock will evolve at each time-step Dt\"\"\"\n",
    "    \n",
    "    def __init__(self,N,L,eta,v,r, Dt, pos0, vel0):\n",
    "        \"\"\"we choose L as a multiple of r in order to simplify\"\"\"\n",
    "        self.positions = pos0\n",
    "        self.velocities = vel0\n",
    "        self.a = int(L/r)\n",
    "        self.checkering = [[[] for i in range(self.a)] for j in range(self.a)]\n",
    "        self.eta = eta\n",
    "        self.v = v\n",
    "        self.r = r \n",
    "        \"\"\"the interaction radius\"\"\"\n",
    "        self.L = L \n",
    "        \"\"\"the scale of the flock\"\"\"\n",
    "        self.N = N\n",
    "        self.Dt=Dt\n",
    "        self.localize_birds()\n",
    "        \n",
    "    def localize_birds(self):\n",
    "        \"\"\"compute the cell of each bird from its position and actualize self.checkering\"\"\"\n",
    "        for k in range (self.N):\n",
    "            i,j = int(self.positions[k][0]/self.r),int(self.positions[k][1]/r)\n",
    "            self.checkering[i][j].append(k)\n",
    "        \n",
    "    \n",
    "    def compute_new_velocity(self, k):\n",
    "        \"\"\"compute the new velocity bird number k will adopt, according to the velocity of its neighbours.\n",
    "        Neighbours are necessary contained in the cell of bird number k and the eight cells around.\n",
    "        For each of these potential neighbours, we have to check if they are within a circle of radius r around bird number k\n",
    "        the interaction radius\"\"\"\n",
    "        i,j = int(self.positions[k][0]/self.r),int(self.positions[k][1]/r)\n",
    "        cos_avr = 0\n",
    "        sin_avr = 0\n",
    "        for p in range(-1,2):\n",
    "            for q in range (-1,2):\n",
    "                for bird in self.checkering[(i+p)%self.a][(j+q)%self.a]:\n",
    "                    if np.linalg.norm(self.positions[k]-self.positions[bird])<self.r : #check if birds are within a circle of radius r\n",
    "                        cos_avr += self.velocities[bird,0]\n",
    "                        sin_avr += self.velocities[bird,1]\n",
    "        if cos_avr == 0 :\n",
    "            theta=np.pi+np.sign(sin_avr)*(np.pi)/2\n",
    "        else :\n",
    "            theta=np.arctan(sin_avr/cos_avr)\n",
    "            theta= theta +(1-np.sign(theta)*np.sign(sin_avr))*np.pi/2\n",
    "        theta+=npr.uniform(-self.eta/2,self.eta/2)\n",
    "        new_velocity = self.v*np.array([np.cos(theta),np.sin(theta)])\n",
    "        return new_velocity\n",
    "    \n",
    "    def make_step(self):\n",
    "        \"\"\"compute the new velocities and positions that birds will get after the time-step,\n",
    "        actualize self.positions, self.velocities and self.chekering\"\"\"\n",
    "        new_velocities=np.zeros((self.N,2))\n",
    "        new_positions=(self.positions).copy()\n",
    "        for k in range(N):\n",
    "            new_velocities[k]=self.compute_new_velocity(k)\n",
    "            new_positions[k]+=(self.velocities[k]*self.Dt)\n",
    "            new_positions[k]=new_positions[k]%self.L #%L for periodic boundary conditions\n",
    "        self.positions = new_positions\n",
    "        self.localize_birds()\n",
    "        self.velocities=new_velocities\n",
    "        \n",
    "    def compute_avr_norm_velocity(self):\n",
    "        \"\"\"compute the average normalized velocity of birds in the flock at time t\"\"\"\n",
    "        va = [0,0]\n",
    "        for k in range (self.N):\n",
    "            va+=self.velocities[k]\n",
    "        return np.linalg.norm(va/(self.N*v))\n",
    "    \n",
    "            "
   ]
  },
  {
   "cell_type": "code",
   "execution_count": null,
   "metadata": {
    "collapsed": false
   },
   "outputs": [],
   "source": [
    "N=200\n",
    "L=10\n",
    "eta=0.1\n",
    "v=1\n",
    "r=0.5\n",
    "Dt=1\n",
    "#pos0=np.array([[5.,5.],[2.,3.],[3.,7.]])\n",
    "pos0=npr.uniform(0,L,size=(N,2))\n",
    "#vel0=np.array([[1.,0.],[0.5,0.],[1.,0.]])\n",
    "theta = npr.uniform(0.,2*np.pi,N)\n",
    "vel0=np.zeros((N,2))\n",
    "vel0[:,0]=v*np.cos(theta)\n",
    "vel0[:,1]=v*np.sin(theta)\n",
    "fl=Flock(N,L,eta,v,r, Dt, pos0, vel0)\n",
    "#flock_to_image(fl)\n",
    "\n",
    "fig = plt.figure()\n",
    "ax = fig.add_subplot(111, aspect='equal')\n",
    "line, = ax.plot([], [], 'bo', ms=5)\n",
    "ax.set_xlim(0, fl.L)\n",
    "ax.set_ylim(0, fl.L)\n",
    "\n",
    "def make_frame(t):\n",
    "    fl.make_step()\n",
    "    x = fl.positions[:,0]\n",
    "    y = fl.positions[:,1]\n",
    "    line.set_data(x, y)\n",
    "    return line,\n",
    "animation.FuncAnimation(fig, make_frame, interval=20, blit=False)"
   ]
  },
  {
   "cell_type": "code",
   "execution_count": null,
   "metadata": {
    "collapsed": false
   },
   "outputs": [],
   "source": [
    "\"\"\"\n",
    "\n",
    "def flock_to_image(flock):\n",
    "    fig = plt.figure()    \n",
    "    plt.axis([0,flock.L,flock.L,0])\n",
    "    #im=plt.quiver(flock.positions[:,0],flock.positions[:,1],flock.velocities[:,0],flock.velocities[:,1], alpha=.5)\n",
    "    im=plt.quiver([],[],[],[], alpha=.5)\n",
    "    def make_frame(t):\n",
    "        flock.make_step()\n",
    "        x = flock.positions[:,0]\n",
    "        y = flock.positions[:,1]\n",
    "        vx = flock.velocities[:,0]\n",
    "        vy = flock.velocities[:,1]\n",
    "        im.set_data(x, y, vx, vy)\n",
    "        return im\n",
    "animation.FuncAnimation(fig, make_frame, interval=20, blit=False)\n",
    "\"\"\""
   ]
  },
  {
   "cell_type": "code",
   "execution_count": null,
   "metadata": {
    "collapsed": false
   },
   "outputs": [],
   "source": [
    "\"\"\"N=100\n",
    "L=10\n",
    "eta=0.1\n",
    "v=1\n",
    "r=0.5\n",
    "Dt=1\n",
    "#pos0=np.array([[5.,5.],[2.,3.],[3.,7.]])\n",
    "pos0=npr.uniform(0,L,size=(N,2))\n",
    "#vel0=np.array([[1.,0.],[0.5,0.],[1.,0.]])\n",
    "theta = npr.uniform(0.,2*np.pi,N)\n",
    "vel0=np.zeros((N,2))\n",
    "vel0[:,0]=v*np.cos(theta)\n",
    "vel0[:,1]=v*np.sin(theta)\n",
    "fl=Flock(N,L,eta,v,r, Dt, pos0, vel0)\n",
    "flock_to_image(fl)\"\"\""
   ]
  },
  {
   "cell_type": "code",
   "execution_count": null,
   "metadata": {
    "collapsed": false
   },
   "outputs": [],
   "source": [
    "for i in range(100):\n",
    "    fl.make_step()\n",
    "flock_to_image(fl)\n",
    "\n",
    "\n"
   ]
  },
  {
   "cell_type": "code",
   "execution_count": null,
   "metadata": {
    "collapsed": false
   },
   "outputs": [],
   "source": [
    "\n",
    "A=np.array([3,4])%1.6\n",
    "print(A)"
   ]
  },
  {
   "cell_type": "code",
   "execution_count": null,
   "metadata": {
    "collapsed": false
   },
   "outputs": [],
   "source": [
    "theta = npr.uniform(0.,2*np.pi,3)\n",
    "vel0=np.zeros((3,2))\n",
    "vel0[:,0]=np.cos(theta)\n",
    "vel0[:,1]=np.sin(theta)\n",
    "print (vel0)\n",
    "print(\"pos\",npr.uniform(0,L,size=(2,3)))\n"
   ]
  },
  {
   "cell_type": "code",
   "execution_count": null,
   "metadata": {
    "collapsed": true
   },
   "outputs": [],
   "source": []
  }
 ],
 "metadata": {
  "kernelspec": {
   "display_name": "Python 3",
   "language": "python",
   "name": "python3"
  },
  "language_info": {
   "codemirror_mode": {
    "name": "ipython",
    "version": 3
   },
   "file_extension": ".py",
   "mimetype": "text/x-python",
   "name": "python",
   "nbconvert_exporter": "python",
   "pygments_lexer": "ipython3",
   "version": "3.5.1"
  }
 },
 "nbformat": 4,
 "nbformat_minor": 0
}
